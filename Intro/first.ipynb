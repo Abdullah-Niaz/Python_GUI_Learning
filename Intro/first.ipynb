{
 "cells": [
  {
   "cell_type": "code",
   "execution_count": 39,
   "metadata": {},
   "outputs": [],
   "source": [
    "from tkinter import *\\\n",
    "\n",
    "#! Main window  object name \n",
    "Box = Tk()\n",
    "frame = Frame(Box)\n",
    "\n",
    "frame.pack()\n",
    "#!  Giving the title to the window\n",
    "Box.title(\"First Program\")\n",
    "\n",
    "\n",
    "#! Label is what output will be\n",
    "#! show on the window\n",
    "button1 = Button(frame, text=\"Hello\", fg='white',bg=\"black\",width=5,height=5).pack()\n",
    "button2 = Button(frame, text=\"Hello\", fg='white',bg=\"black\",width=5,height=5).pack()\n",
    "button3 = Button(frame, text=\"Hello\", fg='white',bg=\"black\",width=5,height=5).pack()\n",
    "button4 = Button(frame, text=\"Hello\", fg='white',bg=\"black\",width=5,height=5).pack()\n",
    "\n",
    "#! calling mainloop method which is used\n",
    "#! when your application is ready to run\n",
    "#! and it tells the code to keep displaying\n",
    "frame.mainloop()"
   ]
  }
 ],
 "metadata": {
  "kernelspec": {
   "display_name": "Python 3",
   "language": "python",
   "name": "python3"
  },
  "language_info": {
   "codemirror_mode": {
    "name": "ipython",
    "version": 3
   },
   "file_extension": ".py",
   "mimetype": "text/x-python",
   "name": "python",
   "nbconvert_exporter": "python",
   "pygments_lexer": "ipython3",
   "version": "3.11.2"
  },
  "orig_nbformat": 4
 },
 "nbformat": 4,
 "nbformat_minor": 2
}
